{
 "cells": [
  {
   "cell_type": "code",
   "execution_count": 1,
   "id": "944fd8c3",
   "metadata": {},
   "outputs": [],
   "source": [
    "import pandas as pd "
   ]
  },
  {
   "cell_type": "code",
   "execution_count": 2,
   "id": "3cbc39bc",
   "metadata": {},
   "outputs": [],
   "source": [
    "df = pd.read_csv('data/progress.csv')"
   ]
  },
  {
   "cell_type": "code",
   "execution_count": 3,
   "id": "408e7a25",
   "metadata": {},
   "outputs": [
    {
     "data": {
      "text/html": [
       "<div>\n",
       "<style scoped>\n",
       "    .dataframe tbody tr th:only-of-type {\n",
       "        vertical-align: middle;\n",
       "    }\n",
       "\n",
       "    .dataframe tbody tr th {\n",
       "        vertical-align: top;\n",
       "    }\n",
       "\n",
       "    .dataframe thead th {\n",
       "        text-align: right;\n",
       "    }\n",
       "</style>\n",
       "<table border=\"1\" class=\"dataframe\">\n",
       "  <thead>\n",
       "    <tr style=\"text-align: right;\">\n",
       "      <th></th>\n",
       "      <th>u_id</th>\n",
       "      <th>topic_id</th>\n",
       "      <th>lesson_id</th>\n",
       "      <th>score</th>\n",
       "      <th>status</th>\n",
       "      <th>last_updated</th>\n",
       "    </tr>\n",
       "  </thead>\n",
       "  <tbody>\n",
       "    <tr>\n",
       "      <th>4745</th>\n",
       "      <td>50</td>\n",
       "      <td>19</td>\n",
       "      <td>1</td>\n",
       "      <td>8000</td>\n",
       "      <td>In Progress</td>\n",
       "      <td>2024-07-17 00:17:16</td>\n",
       "    </tr>\n",
       "    <tr>\n",
       "      <th>4746</th>\n",
       "      <td>50</td>\n",
       "      <td>19</td>\n",
       "      <td>2</td>\n",
       "      <td>6000</td>\n",
       "      <td>In Progress</td>\n",
       "      <td>2024-07-12 00:17:16</td>\n",
       "    </tr>\n",
       "    <tr>\n",
       "      <th>4747</th>\n",
       "      <td>50</td>\n",
       "      <td>19</td>\n",
       "      <td>3</td>\n",
       "      <td>0</td>\n",
       "      <td>Not Started</td>\n",
       "      <td>2025-01-18 00:17:16</td>\n",
       "    </tr>\n",
       "    <tr>\n",
       "      <th>4748</th>\n",
       "      <td>50</td>\n",
       "      <td>19</td>\n",
       "      <td>4</td>\n",
       "      <td>9000</td>\n",
       "      <td>In Progress</td>\n",
       "      <td>2024-07-18 00:17:16</td>\n",
       "    </tr>\n",
       "    <tr>\n",
       "      <th>4749</th>\n",
       "      <td>50</td>\n",
       "      <td>19</td>\n",
       "      <td>5</td>\n",
       "      <td>2000</td>\n",
       "      <td>In Progress</td>\n",
       "      <td>2025-04-21 00:17:16</td>\n",
       "    </tr>\n",
       "  </tbody>\n",
       "</table>\n",
       "</div>"
      ],
      "text/plain": [
       "      u_id  topic_id  lesson_id  score       status         last_updated\n",
       "4745    50        19          1   8000  In Progress  2024-07-17 00:17:16\n",
       "4746    50        19          2   6000  In Progress  2024-07-12 00:17:16\n",
       "4747    50        19          3      0  Not Started  2025-01-18 00:17:16\n",
       "4748    50        19          4   9000  In Progress  2024-07-18 00:17:16\n",
       "4749    50        19          5   2000  In Progress  2025-04-21 00:17:16"
      ]
     },
     "execution_count": 3,
     "metadata": {},
     "output_type": "execute_result"
    }
   ],
   "source": [
    "df.tail()"
   ]
  },
  {
   "cell_type": "code",
   "execution_count": null,
   "id": "9dc0c89a",
   "metadata": {},
   "outputs": [],
   "source": [
    "# Map the status values\n",
    "df['status'] = df['status'].replace({\n",
    "    'In Progress': 'In_Progress',\n",
    "    'Not Started': 'Not_Started'\n",
    "})"
   ]
  },
  {
   "cell_type": "code",
   "execution_count": 5,
   "id": "6808ee39",
   "metadata": {},
   "outputs": [],
   "source": [
    "df.to_csv('final_data/progress.csv', index=False)"
   ]
  }
 ],
 "metadata": {
  "kernelspec": {
   "display_name": "env",
   "language": "python",
   "name": "python3"
  },
  "language_info": {
   "codemirror_mode": {
    "name": "ipython",
    "version": 3
   },
   "file_extension": ".py",
   "mimetype": "text/x-python",
   "name": "python",
   "nbconvert_exporter": "python",
   "pygments_lexer": "ipython3",
   "version": "3.11.9"
  }
 },
 "nbformat": 4,
 "nbformat_minor": 5
}
