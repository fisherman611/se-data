{
 "cells": [
  {
   "cell_type": "code",
   "execution_count": 6,
   "id": "eed531c1",
   "metadata": {},
   "outputs": [
    {
     "data": {
      "text/plain": [
       "'f:\\\\PROGRAMMING\\\\se-data'"
      ]
     },
     "execution_count": 6,
     "metadata": {},
     "output_type": "execute_result"
    }
   ],
   "source": [
    "import pandas as pd \n",
    "import os \n",
    "import sys \n",
    "cwd = os.getcwd()\n",
    "cwd"
   ]
  },
  {
   "cell_type": "code",
   "execution_count": 7,
   "id": "09322353",
   "metadata": {},
   "outputs": [],
   "source": [
    "import pandas as pd\n",
    "import random\n",
    "\n",
    "# Load users\n",
    "df = pd.read_csv('final_data/users.csv')\n",
    "\n",
    "user_ids = df['u_id'].tolist()\n",
    "user_friends = []\n",
    "\n",
    "for user_id in user_ids:\n",
    "    # Exclude self from friends\n",
    "    possible_friends = [uid for uid in user_ids if uid != user_id]\n",
    "    num_friends = random.randint(2, min(10, len(possible_friends)))\n",
    "    friends = random.sample(possible_friends, num_friends)\n",
    "    friends_str = \",\".join(str(fid) for fid in friends)\n",
    "    user_friends.append({'user_id': user_id, 'friend_id': friends_str})\n",
    "\n",
    "# Create DataFrame and save\n",
    "friends_df = pd.DataFrame(user_friends)\n",
    "\n",
    "friends_df.to_csv('final_data/user_friends.csv', index=False)"
   ]
  }
 ],
 "metadata": {
  "kernelspec": {
   "display_name": "env",
   "language": "python",
   "name": "python3"
  },
  "language_info": {
   "codemirror_mode": {
    "name": "ipython",
    "version": 3
   },
   "file_extension": ".py",
   "mimetype": "text/x-python",
   "name": "python",
   "nbconvert_exporter": "python",
   "pygments_lexer": "ipython3",
   "version": "3.11.9"
  }
 },
 "nbformat": 4,
 "nbformat_minor": 5
}
